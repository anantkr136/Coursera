{
 "cells": [
  {
   "cell_type": "code",
   "execution_count": 2,
   "metadata": {},
   "outputs": [],
   "source": [
    "import folium\n",
    "import pandas as pd\n",
    "from bs4 import BeautifulSoup\n",
    "import requests as rst\n",
    "import numpy as np\n",
    "import json"
   ]
  },
  {
   "cell_type": "code",
   "execution_count": 3,
   "metadata": {},
   "outputs": [],
   "source": [
    "\n",
    "def get_the_neighbourhoods():\n",
    "    url = r'https://en.wikipedia.org/wiki/List_of_neighbourhoods_in_Mumbai'\n",
    "    wiki_data = rst.get(url).text\n",
    "    data = BeautifulSoup(wiki_data, 'html.parser')\n",
    "    tbl = data.find('table',{'class':'wikitable sortable'})\n",
    "    scrapped_data = []\n",
    "    for row in tbl.find_all('tr'):\n",
    "        scrapped_row = []\n",
    "        for col in row.find_all('td'):\n",
    "            if col:\n",
    "                area = col.text.rstrip()\n",
    "                scrapped_row.append(area)\n",
    "        if scrapped_row:\n",
    "            scrapped_data.append(scrapped_row)\n",
    "    columns = ['Area', 'Location', 'Lattitide', 'Longitude']\n",
    "    df = pd.DataFrame(scrapped_data, columns=columns)\n",
    "    return df"
   ]
  },
  {
   "cell_type": "code",
   "execution_count": 4,
   "metadata": {},
   "outputs": [],
   "source": [
    "def get_number_of_bars(neighborhood_latitude, neighborhood_longitude):\n",
    "    '''This function will take longitude and latitude as input and return number of bars in that neighbourhood'''\n",
    "    try:\n",
    "        CLIENT_ID= 'QSODRMNFQSB1U4COV520ELCDD1TE5ZDQZ5LM3A33GOZFY5GC'\n",
    "        CLIENT_SECRET='3WKOZZ3TOWLZGOVQXKHNCQDWDAXXP2QC3Y5IAXCXI4RU3Q5S'\n",
    "        url = 'https://api.foursquare.com/v2/venues/explore?&client_id={}&client_secret={}&v={}&ll={},{}&query=Bar'\n",
    "        VERSION = '20191121'\n",
    "        url_new = url.format(\n",
    "        CLIENT_ID, \n",
    "        CLIENT_SECRET, \n",
    "        VERSION, \n",
    "        neighborhood_latitude, \n",
    "        neighborhood_longitude)\n",
    "        response = rst.get(url_new).json()[\"response\"]\n",
    "        total_results = response['totalResults']\n",
    "    except exception as e:\n",
    "        total_results = 0\n",
    "    \n",
    "    return total_results"
   ]
  },
  {
   "cell_type": "code",
   "execution_count": 5,
   "metadata": {},
   "outputs": [
    {
     "name": "stdout",
     "output_type": "stream",
     "text": [
      "                Area                 Location  Lattitide  Longitude  \\\n",
      "0             Amboli  Andheri,Western Suburbs    19.1293    72.8434   \n",
      "1   Chakala, Andheri          Western Suburbs  19.111388  72.860833   \n",
      "2         D.N. Nagar  Andheri,Western Suburbs  19.124085  72.831373   \n",
      "3     Four Bungalows  Andheri,Western Suburbs  19.124714   72.82721   \n",
      "4        Lokhandwala  Andheri,Western Suburbs  19.130815   72.82927   \n",
      "..               ...                      ...        ...        ...   \n",
      "88             Parel             South Mumbai      18.99      72.84   \n",
      "89      Gowalia Tank      Tardeo,South Mumbai   18.96245  72.809703   \n",
      "90       Dava Bazaar             South Mumbai  18.946882  72.831362   \n",
      "91           Dharavi                   Mumbai  19.040208   72.85085   \n",
      "92             Thane                   Mumbai       19.2      72.97   \n",
      "\n",
      "    total_pubs  \n",
      "0           89  \n",
      "1           73  \n",
      "2          109  \n",
      "3           95  \n",
      "4           76  \n",
      "..         ...  \n",
      "88          62  \n",
      "89          50  \n",
      "90          66  \n",
      "91         104  \n",
      "92          22  \n",
      "\n",
      "[93 rows x 5 columns]\n"
     ]
    }
   ],
   "source": [
    "#Parse the data and get the neighbourhoods\n",
    "neighbourHoods = get_the_neighbourhoods()\n",
    "scrapped_data = neighbourHoods[['Lattitide','Longitude']]\n",
    "res =[]\n",
    "for index, row in scrapped_data.iterrows():\n",
    "    #for row in scrapped_data:\n",
    "    total_results = get_number_of_bars(row['Lattitide'], row['Longitude'])\n",
    "    #resp = json.loads(response.text)\n",
    "    res.append(total_results)\n",
    "    \n",
    "neighbourHoods['total_pubs'] = res\n"
   ]
  },
  {
   "cell_type": "code",
   "execution_count": 8,
   "metadata": {},
   "outputs": [
    {
     "data": {
      "text/html": [
       "<div>\n",
       "<style scoped>\n",
       "    .dataframe tbody tr th:only-of-type {\n",
       "        vertical-align: middle;\n",
       "    }\n",
       "\n",
       "    .dataframe tbody tr th {\n",
       "        vertical-align: top;\n",
       "    }\n",
       "\n",
       "    .dataframe thead th {\n",
       "        text-align: right;\n",
       "    }\n",
       "</style>\n",
       "<table border=\"1\" class=\"dataframe\">\n",
       "  <thead>\n",
       "    <tr style=\"text-align: right;\">\n",
       "      <th></th>\n",
       "      <th>Area</th>\n",
       "      <th>Location</th>\n",
       "      <th>Lattitide</th>\n",
       "      <th>Longitude</th>\n",
       "      <th>total_pubs</th>\n",
       "    </tr>\n",
       "  </thead>\n",
       "  <tbody>\n",
       "    <tr>\n",
       "      <th>51</th>\n",
       "      <td>Mahul</td>\n",
       "      <td>Trombay,Harbour Suburbs</td>\n",
       "      <td>19</td>\n",
       "      <td>72.883333</td>\n",
       "      <td>178</td>\n",
       "    </tr>\n",
       "  </tbody>\n",
       "</table>\n",
       "</div>"
      ],
      "text/plain": [
       "     Area                 Location Lattitide  Longitude  total_pubs\n",
       "51  Mahul  Trombay,Harbour Suburbs        19  72.883333         178"
      ]
     },
     "execution_count": 8,
     "metadata": {},
     "output_type": "execute_result"
    }
   ],
   "source": [
    "neighbourHoods = neighbourHoods.sort_values(by='total_pubs')\n",
    "top_five_nh = neighbourHoods.head(5)\n",
    "most_pub_nh = neighbourHoods.tail(1)\n",
    "most_pub_nh"
   ]
  },
  {
   "cell_type": "code",
   "execution_count": null,
   "metadata": {},
   "outputs": [],
   "source": []
  }
 ],
 "metadata": {
  "kernelspec": {
   "display_name": "Python 3",
   "language": "python",
   "name": "python3"
  },
  "language_info": {
   "codemirror_mode": {
    "name": "ipython",
    "version": 3
   },
   "file_extension": ".py",
   "mimetype": "text/x-python",
   "name": "python",
   "nbconvert_exporter": "python",
   "pygments_lexer": "ipython3",
   "version": "3.7.6"
  }
 },
 "nbformat": 4,
 "nbformat_minor": 4
}
